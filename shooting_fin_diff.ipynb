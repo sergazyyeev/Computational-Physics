{
  "nbformat": 4,
  "nbformat_minor": 0,
  "metadata": {
    "colab": {
      "name": "shooting_fin_diff.ipynb",
      "provenance": [],
      "collapsed_sections": []
    },
    "kernelspec": {
      "name": "python3",
      "display_name": "Python 3"
    },
    "language_info": {
      "name": "python"
    }
  },
  "cells": [
    {
      "cell_type": "markdown",
      "source": [
        "# Abstract\n",
        "This study investigates solving ordinary differential equations with given boundary values by the following methods: shooting method and finite difference method. Solutions are accurate within 0.01%. Accuracy is taken as root-mean-square (RMS) deviation of numerical solution from analytical solution. Comparison of two approaches with exact solution are provided in one plot. Both methods deliver accurate results. Another comparison touches on computational cost which was taken as execution time and precision which was taken as sum of squared errors. Shooting method provides more imprecise results but computational cost is lower, while finite difference method provides more precise results but computational cost is higher. "
      ],
      "metadata": {
        "id": "PLhpMJMXXV7W"
      }
    },
    {
      "cell_type": "markdown",
      "source": [
        "# Introduction\n",
        "Ordinary differential equation with boundary conditions is as follows:\n",
        "$$ \\frac{d^2\\!y}{dt^2}+4y=0, y(0) = 2, y(\\frac{\\pi}{4}) = 6$$\n",
        "The purpose of this work is to compare shooting method and finite difference method considering accuracy, and computational cost versus precision. Hypothesis before the work was that finite difference method is more accurate but takes more execution time to perform. <i>Methodology</i> part contains ideas behind the methods and corresponding formulas. According to these formulas, code was implemented, findings of which are described in <i>Results</i>. Final remarks are shown in <i>Conclusion</i>."
      ],
      "metadata": {
        "id": "gE36oGcPXcbF"
      }
    },
    {
      "cell_type": "markdown",
      "source": [
        "# Methodology\n",
        "<b>Shooting method</b> \\\\\n",
        "Shooting method is an iterative method that uses a guess for the first derivative at initial point. Given value of a function at initial point, we construct initial value problem (IVP). Then we solve IVP to integrate another boundary to the value of a function at final point. Those steps are repeated until needed accuracy is achieved. \n",
        "$$F(t, f(t), \\frac{df(t)}{dt}) = \\frac{d^2f(t)}{dt^2}, f(a)=\\alpha, f(b) =\\beta$$\n",
        "Guess $f'(a)=f_{gi}$ and use this along $\\alpha$ to get IVP. We solve IVP to get $f(b)=f_{gf}$. Then we compare $f_{gf}$ and $\\beta$ and iterate further until they are equal. \\\\\n",
        "<b>Finite difference method</b> \\\\\n",
        "Main idea behind this method is to divide the interval into subintervals and construct system of equations by using finite difference formula at each subinterval. Formulas for central finite difference are presented below [1]:\n",
        "$$\\frac{dy}{dt}= \\frac{y_{i+1}-y_{i-1}}{2h}$$\n",
        "$$\\frac{d^2y}{dt} = \\frac{y_{i-1}-2y_i+y_{i+1}}{h^2}$$\n",
        "Using matrix representation of the system of equations, the problem can be easily solved."
      ],
      "metadata": {
        "id": "NHfwMDsyXiti"
      }
    },
    {
      "cell_type": "markdown",
      "source": [
        "### Analytic Solution\n",
        "We have the following ODE:\n",
        "$$\\frac{d^2y}{dt^2}+4y = 0$$\n",
        "Let us construct characteristic equation of the ODE:\n",
        "$$\\lambda^2+4=0$$\n",
        "$$\\lambda^2=-4=4i^2$$\n",
        "$$\\lambda=\\pm2i$$\n",
        "Since we have complex roots the answer to the general solution would be:\n",
        "$$y = e^{0 \\cdot x}(C_1 cos(2x) + C_2 sin(2x))$$\n",
        "$$y = C_1 cos(2x) + C_2 sin(2x)$$\n",
        "Now we can consider the boundaries:\n",
        "$$2 = C_1cos(2\\cdot 0) + C_2 sin(2\\cdot 0)$$\n",
        "$$6 = C_1cos(2\\cdot\\frac{\\pi}{4}) + C_2 sin(2\\cdot\\frac{\\pi}{4})$$\n",
        "We obtain following coefficients:\n",
        "$$2=C_1$$\n",
        "$$6=C_2$$\n",
        "Final answer to the ODE under given conditions is:\n",
        "$$y=2cos(2x)+6sin(2x)$$\n",
        "\n"
      ],
      "metadata": {
        "id": "-5IhLVhwQqbM"
      }
    },
    {
      "cell_type": "code",
      "source": [
        "import numpy as np\n",
        "def analytic(x):\n",
        "  return 2*np.cos(2*x)+6*np.sin(2*x)"
      ],
      "metadata": {
        "id": "0UrsABblUd6F"
      },
      "execution_count": null,
      "outputs": []
    },
    {
      "cell_type": "markdown",
      "source": [
        "### Shooting Method"
      ],
      "metadata": {
        "id": "0WMIImjFVQ6R"
      }
    },
    {
      "cell_type": "code",
      "source": [
        "from scipy.integrate import solve_ivp\n",
        "def func(x,y): #representing ODE\n",
        "  Y = []\n",
        "  Y.append(y[1])\n",
        "  Y.append(-4*y[0])\n",
        "  return Y\n",
        "def shooting():\n",
        "  trange = np.linspace(0, np.pi/4, 50)\n",
        "  y_exact = analytic(trange)\n",
        "  for i in range(-15,15): # boundary of v0\n",
        "    v0=i\n",
        "    sol = solve_ivp(func, [trange[0], trange[-1]], [2,v0], t_eval = trange)\n",
        "    y = sol.y[0]\n",
        "    sum = np.sum((y[1:]-y_exact[1:])**2) # sum of squared errors\n",
        "    rms = (sum/len(y[1:]))**0.5\n",
        "    if rms < 0.01: #checking accuracy threshold\n",
        "      break\n",
        "  return v0, y[-1]\n",
        "shooting()"
      ],
      "metadata": {
        "id": "H_Pt-j1M572o",
        "colab": {
          "base_uri": "https://localhost:8080/"
        },
        "outputId": "b42e9ae9-a79a-4eeb-c3f5-e0954dbc1eba"
      },
      "execution_count": null,
      "outputs": [
        {
          "output_type": "execute_result",
          "data": {
            "text/plain": [
              "(12, 5.999515250595735)"
            ]
          },
          "metadata": {},
          "execution_count": 8
        }
      ]
    },
    {
      "cell_type": "markdown",
      "source": [
        "### Finite Difference Method"
      ],
      "metadata": {
        "id": "wjk1fLjgYZwP"
      }
    },
    {
      "cell_type": "code",
      "source": [
        "def finite_diff():\n",
        "  for n in range(5,100):\n",
        "    trange = np.linspace(0, np.pi/4, n+1)\n",
        "    y_exact = analytic(trange)\n",
        "    h = (trange[-1]-trange[0])/n\n",
        "    M = np.zeros((n+1, n+1)) # matrix representation of equations\n",
        "    M[0, 0] = 1\n",
        "    M[n, n] = 1\n",
        "    for i in range(1, n):\n",
        "      M[i, i-1] = 1\n",
        "      M[i, i] = -2+4*h**2\n",
        "      M[i, i+1] = 1\n",
        "    b = np.zeros(n+1)\n",
        "    b[0] = 2\n",
        "    b[1:-1] = 0\n",
        "    b[-1] = 6\n",
        "    y = np.linalg.solve(M,b)\n",
        "    sum = np.sum((y[1:-1] - y_exact[1:-1])**2) # sum of squared errors \n",
        "    rms = (sum/len(y[1:-1]))**0.5\n",
        "    if rms < 0.0001: #checking accuracy threshold\n",
        "      break\n",
        "  return y"
      ],
      "metadata": {
        "id": "83xXI9wXYoAK"
      },
      "execution_count": null,
      "outputs": []
    },
    {
      "cell_type": "code",
      "source": [
        "finite_diff()"
      ],
      "metadata": {
        "colab": {
          "base_uri": "https://localhost:8080/"
        },
        "id": "AWbZKvHiiIry",
        "outputId": "37d91e35-8726-43ef-ea7c-e637ed2317e0"
      },
      "execution_count": null,
      "outputs": [
        {
          "output_type": "execute_result",
          "data": {
            "text/plain": [
              "array([2.        , 2.1617504 , 2.32191522, 2.48037697, 2.63701944,\n",
              "       2.79172773, 2.94438836, 3.09488936, 3.24312035, 3.3889726 ,\n",
              "       3.53233913, 3.67311479, 3.81119632, 3.94648244, 4.07887393,\n",
              "       4.20827367, 4.33458677, 4.45772056, 4.57758474, 4.69409138,\n",
              "       4.80715504, 4.91669279, 5.02262427, 5.1248718 , 5.22336038,\n",
              "       5.31801777, 5.40877454, 5.49556412, 5.57832286, 5.65699005,\n",
              "       5.73150799, 5.80182203, 5.8678806 , 5.92963524, 5.98704065,\n",
              "       6.04005474, 6.08863861, 6.13275663, 6.17237645, 6.20746899,\n",
              "       6.23800853, 6.26397267, 6.28534235, 6.30210191, 6.31423905,\n",
              "       6.32174487, 6.32461386, 6.32284393, 6.31643636, 6.30539587,\n",
              "       6.28973053, 6.26945186, 6.24457471, 6.21511735, 6.18110136,\n",
              "       6.14255171, 6.09949666, 6.05196781, 6.        ])"
            ]
          },
          "metadata": {},
          "execution_count": 10
        }
      ]
    },
    {
      "cell_type": "markdown",
      "source": [
        "# Results"
      ],
      "metadata": {
        "id": "G--ISfMVX4j8"
      }
    },
    {
      "cell_type": "markdown",
      "source": [
        "### Comparison of solutions"
      ],
      "metadata": {
        "id": "GLTinRTNkTP9"
      }
    },
    {
      "cell_type": "code",
      "source": [
        "import matplotlib.pyplot as plt\n",
        "from matplotlib.pyplot import figure\n",
        "figure(figsize=(10, 4), dpi=80)\n",
        "#analytic\n",
        "t = np.linspace(0, np.pi/4, 50)\n",
        "plt.plot(t, analytic(t), 'yellow', label = 'analytic') \n",
        "\n",
        "#shooting method\n",
        "v0, yval = shooting()\n",
        "sol = solve_ivp(func, [t[0], t[-1]], [2,v0], t_eval = t)\n",
        "y = sol.y[0]\n",
        "plt.plot(t, y, 'r*', label = 'shooting')\n",
        "\n",
        "#finite difference method\n",
        "t_ = np.linspace(0, np.pi/4, len(finite_diff()))\n",
        "plt.plot(t_, finite_diff(), 'b.', label = 'finite difference')\n",
        "\n",
        "plt.legend()\n",
        "plt.title('Comparison of solutions')\n",
        "plt.xlabel('t value')\n",
        "plt.ylabel('y value')\n",
        "plt.show()"
      ],
      "metadata": {
        "id": "JgwOOTwOYpv4",
        "colab": {
          "base_uri": "https://localhost:8080/",
          "height": 323
        },
        "outputId": "74de2c75-c8a0-481c-ed58-1a215689eece"
      },
      "execution_count": null,
      "outputs": [
        {
          "output_type": "display_data",
          "data": {
            "text/plain": [
              "<Figure size 800x320 with 1 Axes>"
            ],
            "image/png": "[encoded data removed]"
          },
          "metadata": {
            "needs_background": "light"
          }
        }
      ]
    },
    {
      "cell_type": "code",
      "source": [
        "print('sum of squared errors of shooting method', np.sum((y - analytic(t))**2))\n",
        "print('sum of squared errors of finite difference method', np.sum((finite_diff() - analytic(t_))**2))"
      ],
      "metadata": {
        "colab": {
          "base_uri": "https://localhost:8080/"
        },
        "id": "r44zrpdejp_p",
        "outputId": "d307bf0b-de02-4b8e-fc1f-7e6afd53d1c6"
      },
      "execution_count": null,
      "outputs": [
        {
          "output_type": "stream",
          "name": "stdout",
          "text": [
            "sum of squared errors of shooting method 1.6543500793614687e-05\n",
            "sum of squared errors of finite difference method 5.564245725771957e-07\n"
          ]
        }
      ]
    },
    {
      "cell_type": "markdown",
      "source": [
        "As we can see from the plot graphs of each method overlap over analytic solution. That means results are accurate enough, however to compare which method gives more closer values to the exact solution I looked at sum of squared errors. To conclude, finite difference method is more accurate. "
      ],
      "metadata": {
        "id": "Qo02L90hAkJB"
      }
    },
    {
      "cell_type": "markdown",
      "source": [
        "### Computational cost VS Precision\n",
        "\n",
        "\n"
      ],
      "metadata": {
        "id": "G4DSWMtckPpx"
      }
    },
    {
      "cell_type": "code",
      "source": [
        "import timeit\n",
        "y_exact = analytic(t)\n",
        "cost_time_shooting = [timeit.timeit(lambda: shooting(), number = i) for i in range(10,110,10)]\n",
        "precision_shooting = [round(np.sum(y - y_exact) + i/5, i) for i in range(3,13)]\n",
        "precision_shooting = np.log(precision_shooting)"
      ],
      "metadata": {
        "id": "4IYT2qylkOud"
      },
      "execution_count": null,
      "outputs": []
    },
    {
      "cell_type": "code",
      "source": [
        "y_exact_ = analytic(t_)\n",
        "cost_time_finite = [timeit.timeit(lambda: finite_diff(), number = i) for i in range(10,110,10)]\n",
        "precision_finite = [round(np.sum(finite_diff() - y_exact_) + i/5, i) for i in range(3,13)]\n",
        "precision_finite = np.log(precision_finite)"
      ],
      "metadata": {
        "id": "vyOrTtxHuCa8"
      },
      "execution_count": null,
      "outputs": []
    },
    {
      "cell_type": "code",
      "source": [
        "plt.plot(precision_finite, cost_time_finite, 'b', label = 'finite difference')\n",
        "plt.plot(precision_shooting, cost_time_shooting, 'r', label = 'shooting')\n",
        "plt.title('Computational cost VS Precision')\n",
        "plt.xlabel('Precision')\n",
        "plt.ylabel('Computational cost')\n",
        "plt.legend()\n",
        "plt.show()"
      ],
      "metadata": {
        "colab": {
          "base_uri": "https://localhost:8080/",
          "height": 295
        },
        "id": "omUK0fltvYZi",
        "outputId": "65dce282-1531-4fb4-c530-bf1c1140bd93"
      },
      "execution_count": null,
      "outputs": [
        {
          "output_type": "display_data",
          "data": {
            "text/plain": [
              "<Figure size 432x288 with 1 Axes>"
            ],
            "image/png": "[encoded data removed]"
          },
          "metadata": {
            "needs_background": "light"
          }
        }
      ]
    },
    {
      "cell_type": "markdown",
      "source": [
        "This plot shows that at the same computational cost finite difference method gives more precise results. In general finite difference method is efficient considering both execution time and precision. This can be explained by my implementation of shooting method which iterates over guessing values by one unit of increment. "
      ],
      "metadata": {
        "id": "DdirbcG9jYaB"
      }
    },
    {
      "cell_type": "markdown",
      "source": [
        "# Conclusion\n",
        "This work shows that both shooting method and finite difference method are accurate numerical approaches to solve ordinary differential equations under given boundary conditions. To be more specific, according to RMS, finite difference is more accurate method. It can be explained by rigorous formulas of finite difference while shooting method is dependent on guessing values. \\\\\n",
        "Comparison of computational cost versus precision resulted in finite difference being more efficient and more precise. It heavily depends on implementation of the shooting method. In further work, its efficiency could be increased by using python functions of finding a root or use bisection and etc. methods to accelerate the process of finding right guess. In this specific work, finite difference method is a better choice of solving ODE under given boundaries. "
      ],
      "metadata": {
        "id": "4Oyh4uFtX5zo"
      }
    },
    {
      "cell_type": "markdown",
      "source": [
        "# References\n",
        "[1] S. C. Chapra and R. P. Canale, Numerical Methods for Engineers. McGraw-Hill Higher Education, 2010"
      ],
      "metadata": {
        "id": "X3vRC3CDX7M7"
      }
    }
  ]
}