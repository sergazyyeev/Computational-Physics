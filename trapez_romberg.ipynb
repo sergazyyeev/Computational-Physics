{
  "nbformat": 4,
  "nbformat_minor": 0,
  "metadata": {
    "colab": {
      "name": "trapez_romberg.ipynb",
      "provenance": [],
      "collapsed_sections": []
    },
    "kernelspec": {
      "name": "python3",
      "display_name": "Python 3"
    },
    "language_info": {
      "name": "python"
    }
  },
  "cells": [
    {
      "cell_type": "markdown",
      "source": [
        "#Abstract\n",
        "This study considers computations of integrals by the following two methods: trapezoidal rule and Romberg integration method. The comparison of these two integral computations was based on exact value of integral, precision (difference between exact value of integral and computed ones), and computational cost. Cost of computation was measured as execution time. Plot 'Computational cost VS Precision' is provided where we can see the comparison between the methods. While trapezoidal rule is efficient in computational cost, it provides less precise results. On the other hand, Romberg method's execution time is greater and it estimates closer to the exact value of integral."
      ],
      "metadata": {
        "id": "gd6YI3FjdvVX"
      }
    },
    {
      "cell_type": "markdown",
      "source": [
        "#Introduction\n",
        "Integral that is solved in this assignment is below:\n",
        "$$ I = \\int_0^1 e^{-x} dx. $$\n",
        "The purpose of this small research is to determine which of the methods: trapezoidal rule or Romberg method gives smallest error for the same computational cost. My hypothesis is that Rumberg's method takes more execution time. In <i>Methodology</i> part, formulas of each method are shown and described in details. Then formulas are constructed in code to solve the integral. Outcomes of the solutions are provided in <i>Results</i> part. Summary of the main points is shown in <i>Conclusion</i>. "
      ],
      "metadata": {
        "id": "OLkHKt67hM6t"
      }
    },
    {
      "cell_type": "markdown",
      "source": [
        "#Methodology\n"
      ],
      "metadata": {
        "id": "cHWGG2YTj_F5"
      }
    },
    {
      "cell_type": "markdown",
      "source": [
        "Trapezoidal rule approximates the region under the function as the sum of numerous trapezoids. The following formula is used in computations:\n",
        "$$\\int f(x)dx \\approx \\sum_{k=1}^N \\frac{f(x_{k-1}) + f(x_k)}{2} \\triangle x_k$$\n",
        "where $$\\triangle x_k = x_k - x_{k-1}$$\n",
        "<center><img src = 'https://www.researchgate.net/profile/Nour-Moustafa/publication/317558878/figure/fig5/AS:669621539590159@1536661624308/Composite-trapezoidal-rule.png' width = 300 height = 150></center>\n",
        "\n"
      ],
      "metadata": {
        "id": "hDBwobmMkiaR"
      }
    },
    {
      "cell_type": "markdown",
      "source": [
        "Romberg's method uses trapezoidal rule and extrapolates it by evaluating the integrand at equally spaced points. The formula is shown below:\n",
        "$$R(i,j) = \\frac{4^j \\cdot R(i, j-1) - R(i-1, j-1)}{4^j -1} $$\n",
        "where $i \\geq j$ and $j \\geq 1$ and $R[i,0]$ is equal to trapezoidal rule having $2^i$ equally spaced points\n",
        "<center><img src = 'https://miro.medium.com/max/1400/1*UfN9jeY-NN6niP2Rl7rDWw.png' width = 400 height = 150></center>"
      ],
      "metadata": {
        "id": "bprzg-Y4ROhR"
      }
    },
    {
      "cell_type": "markdown",
      "source": [
        "###Trapezoidal rule"
      ],
      "metadata": {
        "id": "XipVhYga7fpe"
      }
    },
    {
      "cell_type": "code",
      "source": [
        "import numpy as np\n",
        "def func(x):\n",
        "  return np.e**(-x)\n",
        "def trapezoidal(a,b,n):\n",
        "  h = (b-a)/n #n - number of equally spaced points\n",
        "  s = (func(a) + func(b))/2\n",
        "  for i in range(1,n):\n",
        "    s = s + func(a + i*h)\n",
        "  return h*s"
      ],
      "metadata": {
        "id": "rhc3jygSFfOm"
      },
      "execution_count": null,
      "outputs": []
    },
    {
      "cell_type": "markdown",
      "source": [
        "###Romberg integration"
      ],
      "metadata": {
        "id": "FOISbJuX74n1"
      }
    },
    {
      "cell_type": "code",
      "source": [
        "def romberg(a,b,r):\n",
        "  R = np.zeros((r,r)) #r - number of rows\n",
        "  for i in range(0,r):\n",
        "    R[i,0] = trapezoidal(a,b,2**i)\n",
        "    for j in range(0,i):\n",
        "      R[i,j+1] = (4**(j+1) * R[i,j] - R[i-1, j]) / (4**(j+1) - 1)\n",
        "  return R[r-1,r-1]"
      ],
      "metadata": {
        "id": "qzT8NS3o9UpP"
      },
      "execution_count": null,
      "outputs": []
    },
    {
      "cell_type": "markdown",
      "source": [
        "###Exact value of integration and comparisons"
      ],
      "metadata": {
        "id": "KjBid1jaSZ7-"
      }
    },
    {
      "cell_type": "code",
      "source": [
        "exact = 1 - 1/np.e\n",
        "print('exact -', exact)\n",
        "print('trapezoidal -', trapezoidal(0,1,100))\n",
        "print('romberg -', romberg(0,1,10))"
      ],
      "metadata": {
        "colab": {
          "base_uri": "https://localhost:8080/"
        },
        "id": "TOoZhcZ6_Lp1",
        "outputId": "b0448cfc-1c4f-4c1b-f912-264e97dae9a5"
      },
      "execution_count": null,
      "outputs": [
        {
          "output_type": "stream",
          "name": "stdout",
          "text": [
            "exact - 0.6321205588285577\n",
            "trapezoidal - 0.6321258264911017\n",
            "romberg - 0.6321205588285571\n"
          ]
        }
      ]
    },
    {
      "cell_type": "markdown",
      "source": [
        "#Results\n",
        "###Plot 'Computational cost VS Precision'"
      ],
      "metadata": {
        "id": "hNK4Mj4VSNgL"
      }
    },
    {
      "cell_type": "code",
      "source": [
        "import timeit\n",
        "cost_time_trapezoidal = [timeit.timeit(lambda: trapezoidal(0,1,100), number = i) for i in range(200,1200,100)]\n",
        "precision_trapezoidal = [round(trapezoidal(0,1,i-2) - exact, i) for i in range(3,13)]"
      ],
      "metadata": {
        "id": "YVBm2W-2DxR2"
      },
      "execution_count": null,
      "outputs": []
    },
    {
      "cell_type": "code",
      "source": [
        "precision_trapezoidal"
      ],
      "metadata": {
        "id": "mLLVnDuDuIvG",
        "outputId": "3f5caeb2-ce61-40bb-fee4-0036fe087ecc",
        "colab": {
          "base_uri": "https://localhost:8080/"
        }
      },
      "execution_count": null,
      "outputs": [
        {
          "output_type": "execute_result",
          "data": {
            "text/plain": [
              "[0.052,\n",
              " 0.0131,\n",
              " 0.00584,\n",
              " 0.003289,\n",
              " 0.0021057,\n",
              " 0.00146257,\n",
              " 0.001074669,\n",
              " 0.0008228594,\n",
              " 0.00065019602,\n",
              " 0.000526679359]"
            ]
          },
          "metadata": {},
          "execution_count": 14
        }
      ]
    },
    {
      "cell_type": "code",
      "source": [
        "np.log(precision_trapezoidal)"
      ],
      "metadata": {
        "colab": {
          "base_uri": "https://localhost:8080/"
        },
        "id": "15T__EHTaoXp",
        "outputId": "9f41bc44-86e8-41b4-b0db-1c3ad7a445ec"
      },
      "execution_count": null,
      "outputs": [
        {
          "output_type": "execute_result",
          "data": {
            "text/plain": [
              "array([-2.95651156, -4.33514305, -5.14302448, -5.71717171, -6.16310733,\n",
              "       -6.52756012, -6.83574257, -7.10272521, -7.33823667, -7.54891862])"
            ]
          },
          "metadata": {},
          "execution_count": 13
        }
      ]
    },
    {
      "cell_type": "code",
      "source": [
        "cost_time_romberg = [timeit.timeit(lambda: romberg(0,1,6), number = i) for i in range(200,1200,100)]\n",
        "precision_romberg = [round(romberg(0,1,i-2) - exact, i) for i in range(3,13)]"
      ],
      "metadata": {
        "id": "_vyYiZfhJmLm"
      },
      "execution_count": null,
      "outputs": []
    },
    {
      "cell_type": "code",
      "source": [
        "np.log(precision_romberg)"
      ],
      "metadata": {
        "colab": {
          "base_uri": "https://localhost:8080/"
        },
        "id": "USasyIHbaTY8",
        "outputId": "420738bf-9ae4-4f50-b653-e44fbd091b96"
      },
      "execution_count": null,
      "outputs": [
        {
          "output_type": "stream",
          "name": "stderr",
          "text": [
            "/usr/local/lib/python3.7/dist-packages/ipykernel_launcher.py:1: RuntimeWarning: divide by zero encountered in log\n",
            "  \"\"\"Entry point for launching an IPython kernel.\n"
          ]
        },
        {
          "output_type": "execute_result",
          "data": {
            "text/plain": [
              "array([-2.95651156, -8.51719319,        -inf,        -inf,        -inf,\n",
              "              -inf,        -inf,        -inf,        -inf,        -inf])"
            ]
          },
          "metadata": {},
          "execution_count": 7
        }
      ]
    },
    {
      "cell_type": "code",
      "source": [
        "import matplotlib.pyplot as plt\n",
        "plt.plot(np.log(precision_trapezoidal), cost_time_trapezoidal, label = 'Trapezoidal', color = 'blue')\n",
        "plt.plot(np.log(precision_romberg), cost_time_romberg, label = 'Romberg', color = 'red')\n",
        "plt.legend()\n",
        "plt.title('Computational cost vs Precision')\n",
        "plt.ylabel('Computation cost')\n",
        "plt.xlabel('Precision')\n",
        "plt.xticks([])\n",
        "plt.yticks([])\n",
        "plt.show()"
      ],
      "metadata": {
        "colab": {
          "base_uri": "https://localhost:8080/",
          "height": 313
        },
        "id": "eRV26g3LGo59",
        "outputId": "aae3948b-10cb-447d-ee89-dbcfe7f6e563"
      },
      "execution_count": null,
      "outputs": [
        {
          "output_type": "stream",
          "name": "stderr",
          "text": [
            "/usr/local/lib/python3.7/dist-packages/ipykernel_launcher.py:3: RuntimeWarning: divide by zero encountered in log\n",
            "  This is separate from the ipykernel package so we can avoid doing imports until\n"
          ]
        },
        {
          "output_type": "display_data",
          "data": {
            "text/plain": [
              "<Figure size 432x288 with 1 Axes>"
            ],
            "image/png": "[encoded data removed]"
          },
          "metadata": {}
        }
      ]
    },
    {
      "cell_type": "markdown",
      "source": [
        "As we can see from the plot Romberg integration method costs much in time but provides much higher precision. It is understandable because Romberg integration has not only 2 loops but also depends on Trapezoidal Rule; all of these computations take much time while Trapezoidal rule has only one loop. Though Romberg method being inefficient from the view of execution time it gives much more precise results. \n",
        "Also, we can deduce which method costs more in time by looking at corresponding formulas. Firstly, Romberg's integration uses trapezoidal rule, meaning that at this stage both methods already have similar computational cost, secondly, Romberg's method has to extrapolate those computations to get more precise results"
      ],
      "metadata": {
        "id": "p5714aYWTFHA"
      }
    },
    {
      "cell_type": "markdown",
      "source": [
        "#Conclusion\n"
      ],
      "metadata": {
        "id": "e7VcOJQEkZVe"
      }
    },
    {
      "cell_type": "markdown",
      "source": [
        "The main points of this study is that trapezoidal rule costs less in time but provides more imprecise results compared to the Romberg's method resulting in higher computational cost. It is explained by complexities of each method: $O(n)$ - trapezoidal rule, and $O(2^n)$ - Romberg's method. Comparison of those two methods is important because depending on the situation in which researcher has to decide between Romberg's method and trapezoidal rule he may reasonably choose the method. \n",
        "\n",
        "In further studies, it would be wise to construct a numerical solution that is optimal from both points of view: computational cost and precision. Construction of such computational model would depend on the features of trapezoidal rule and Romberg's method. "
      ],
      "metadata": {
        "id": "O8aLdXS2U6qW"
      }
    },
    {
      "cell_type": "markdown",
      "source": [
        "#References\n",
        "[1] A. Yazici, T. Ergenc, I. Atlas, Romberg Integration: A Symbolic Approach with Mathematica. https://www.researchgate.net/journal/Lecture-Notes-in-Computer-Science-0302-9743, 2003"
      ],
      "metadata": {
        "id": "4WIkvosuwEPw"
      }
    }
  ]
}